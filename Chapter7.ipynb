{
  "nbformat": 4,
  "nbformat_minor": 0,
  "metadata": {
    "colab": {
      "name": "Chapter7.ipynb",
      "provenance": [],
      "toc_visible": true,
      "authorship_tag": "ABX9TyMYvhItbFA0+5PWksIb1Dmk",
      "include_colab_link": true
    },
    "kernelspec": {
      "name": "python3",
      "display_name": "Python 3"
    }
  },
  "cells": [
    {
      "cell_type": "markdown",
      "metadata": {
        "id": "view-in-github",
        "colab_type": "text"
      },
      "source": [
        "<a href=\"https://colab.research.google.com/github/Tatsuro0726/FlaskApp/blob/master/Chapter7.ipynb\" target=\"_parent\"><img src=\"https://colab.research.google.com/assets/colab-badge.svg\" alt=\"Open In Colab\"/></a>"
      ]
    },
    {
      "cell_type": "markdown",
      "metadata": {
        "id": "SrrTb02zwCzU",
        "colab_type": "text"
      },
      "source": [
        "### Chapter7-1: 類似画像の検出を使用\n",
        "#### 簡単な形状認識 - Average Hash\n",
        "- 画像を比較可能なハッシュ値で表す。ハッシュ関数:MD5, SHA256などを使う。⇒ データの値を要約したハッシュ値を得られる。\n",
        "- 画像データは一般的に同一ではない(サイズとか色調, jpeg/pngなど)のため、ハッシュ関数を使えない。\n",
        "- 類似度計算に使用するAverage Hashが役立つ\n",
        "  1. 画像のサイズを8×8\n",
        "  1. 色をグレースケールに変換\n",
        "  1. 画像の各ピクセルの平均値を計算\n",
        "  1. 各ピクセルの濃淡が平均より大きければ1, 平均以下なら0とする\n",
        "- 上記の手順で、8×8=64bitのハッシュ値が得られる。⇒ 64ビットを比較するだけで済む。"
      ]
    },
    {
      "cell_type": "code",
      "metadata": {
        "id": "FHlqoa1GxdUb",
        "colab_type": "code",
        "colab": {
          "base_uri": "https://localhost:8080/",
          "height": 33
        },
        "outputId": "0a79a1b9-0bc5-43c8-e2af-a9d178f6f541"
      },
      "source": [
        "# Pythonの画像ライブラリーPillowをインストール\n",
        "!pip install Pillow"
      ],
      "execution_count": 1,
      "outputs": [
        {
          "output_type": "stream",
          "text": [
            "Requirement already satisfied: Pillow in /usr/local/lib/python3.6/dist-packages (7.0.0)\n"
          ],
          "name": "stdout"
        }
      ]
    },
    {
      "cell_type": "code",
      "metadata": {
        "id": "5HbF0gC3xk9X",
        "colab_type": "code",
        "colab": {
          "base_uri": "https://localhost:8080/",
          "height": 300
        },
        "outputId": "4c0bdbca-ddc4-4e92-f0d3-324e9c782313"
      },
      "source": [
        "# avghash\n",
        "from PIL import Image\n",
        "import numpy as np\n",
        "\n",
        "# 画像データをAverage Hashに変換\n",
        "def average_hash(fname, size = 16):\n",
        "  img = Image.open(fname)\n",
        "  img = img.convert('L') # グレースケールに変換\n",
        "  img = img.resize((size, size), Image.ANTIALIAS) # リサイズ　アンチエイリアス：境界線を滑らかに見せる\n",
        "  pixel_data = img.getdata() # ピクセルデータを得る\n",
        "  pixels = np.array(pixel_data) # numpy配列に変換\n",
        "  pixels = pixels.reshape((size, size)) # 2次元配列に変換\n",
        "  avg = pixels.mean() # 算術平均を計算\n",
        "  diff = 1 * (pixels > avg) # 平均より大きければ1, 平均以下で0に変換\n",
        "  return diff\n",
        "\n",
        "# 2進数とみなしてハッシュ値に変換\n",
        "def np2hash(n):\n",
        "  bhash = []\n",
        "  for nl in ahash.tolist():\n",
        "    sl = [str(i) for i in nl]\n",
        "    s2 = ''.join(sl)\n",
        "    i = int(s2,2) # 2進数を整数に\n",
        "    bhash.append('%04x' % i)\n",
        "  return ''.join(bhash)\n",
        "\n",
        "# Average Hashを表示\n",
        "ahash = average_hash('./skytree.jpg')\n",
        "print(ahash)\n",
        "print(np2hash(ahash))"
      ],
      "execution_count": 7,
      "outputs": [
        {
          "output_type": "stream",
          "text": [
            "[[0 0 0 1 1 1 1 1 1 0 0 0 0 0 0 0]\n",
            " [0 0 1 1 1 1 0 1 1 1 0 1 0 0 0 0]\n",
            " [1 1 1 1 1 0 0 1 1 1 1 1 0 1 1 1]\n",
            " [1 1 1 1 1 0 0 0 1 1 1 1 0 0 1 1]\n",
            " [1 1 1 1 1 0 0 0 1 1 1 1 0 0 1 1]\n",
            " [1 1 1 1 1 0 0 0 1 1 1 1 0 0 1 1]\n",
            " [1 1 1 1 1 0 0 0 1 1 1 1 1 0 1 1]\n",
            " [1 1 1 1 0 0 0 0 1 1 1 1 1 1 1 1]\n",
            " [1 1 1 1 0 0 0 0 1 1 1 1 0 1 1 1]\n",
            " [1 1 1 1 0 0 0 0 1 1 1 1 0 1 1 1]\n",
            " [1 1 1 0 0 0 0 0 1 1 1 1 1 0 1 1]\n",
            " [1 1 1 0 0 0 0 0 0 1 1 1 1 0 1 1]\n",
            " [1 1 1 0 0 0 0 0 0 1 1 1 1 1 1 1]\n",
            " [1 1 0 0 0 0 0 0 0 1 1 1 1 1 1 1]\n",
            " [1 1 0 0 0 0 0 0 0 1 1 1 0 0 1 1]\n",
            " [1 0 0 0 0 0 0 0 0 1 1 1 1 0 1 1]]\n",
            "1f803dd0f9f7f8f3f8f3f8f3f8fbf0fff0f7f0f7e0fbe07be07fc07fc073807b\n"
          ],
          "name": "stdout"
        }
      ]
    },
    {
      "cell_type": "code",
      "metadata": {
        "id": "gx7UVe4Hphfm",
        "colab_type": "code",
        "colab": {
          "base_uri": "https://localhost:8080/",
          "height": 162
        },
        "outputId": "903a9980-2e23-4b64-d8a4-a5a5674a02c2"
      },
      "source": [
        ""
      ],
      "execution_count": 6,
      "outputs": [
        {
          "output_type": "error",
          "ename": "NameError",
          "evalue": "ignored",
          "traceback": [
            "\u001b[0;31m---------------------------------------------------------------------------\u001b[0m",
            "\u001b[0;31mNameError\u001b[0m                                 Traceback (most recent call last)",
            "\u001b[0;32m<ipython-input-6-6bcd0d531264>\u001b[0m in \u001b[0;36m<module>\u001b[0;34m()\u001b[0m\n\u001b[0;32m----> 1\u001b[0;31m \u001b[0mahash\u001b[0m\u001b[0;34m.\u001b[0m\u001b[0mtolist\u001b[0m\u001b[0;34m(\u001b[0m\u001b[0;34m)\u001b[0m\u001b[0;34m\u001b[0m\u001b[0;34m\u001b[0m\u001b[0m\n\u001b[0m",
            "\u001b[0;31mNameError\u001b[0m: name 'ahash' is not defined"
          ]
        }
      ]
    },
    {
      "cell_type": "code",
      "metadata": {
        "id": "EnnJDPZ3sYIg",
        "colab_type": "code",
        "colab": {}
      },
      "source": [
        ""
      ],
      "execution_count": null,
      "outputs": []
    }
  ]
}